{
 "cells": [
  {
   "cell_type": "markdown",
   "id": "8ec392bf",
   "metadata": {},
   "source": [
    "# Import"
   ]
  },
  {
   "cell_type": "code",
   "execution_count": 23,
   "id": "c338d6b9",
   "metadata": {},
   "outputs": [],
   "source": [
    "import sys \n",
    "import os\n",
    "import configparser\n",
    "import pandas as pd\n",
    "import numpy as np\n",
    "import datetime as dt\n",
    "from faker import Faker\n",
    "from sqlalchemy import create_engine"
   ]
  },
  {
   "cell_type": "code",
   "execution_count": 3,
   "id": "0cc3a6d2",
   "metadata": {},
   "outputs": [],
   "source": [
    "script_dir = os.path.abspath('')\n",
    "mymodule_dir = os.path.join( script_dir, '..', '..', 'database', 'table_setup' )\n",
    "sys.path.append( mymodule_dir )\n",
    "\n",
    "import sql_queries"
   ]
  },
  {
   "cell_type": "code",
   "execution_count": 4,
   "id": "1865b722",
   "metadata": {},
   "outputs": [],
   "source": [
    "mymodule_dir = os.path.join( script_dir, '..', '..', 'database', 'connection' )\n",
    "sys.path.append( mymodule_dir )\n",
    "\n",
    "import postgres_db"
   ]
  },
  {
   "cell_type": "markdown",
   "id": "4332aa58",
   "metadata": {},
   "source": [
    "# Connect"
   ]
  },
  {
   "cell_type": "code",
   "execution_count": 5,
   "id": "49f4ea80",
   "metadata": {},
   "outputs": [],
   "source": [
    "encoding = 'utf-16'\n",
    "\n",
    "config_file_path = os.path.join( script_dir, '..', '..', 'database', 'connection' )\n",
    "config_file_path += '/config.ini'\n",
    "\n",
    "db_conn = postgres_db.PostgresConnector(config_file_path = config_file_path,\n",
    "                                       section = 'jj-furniture',\n",
    "                                       encoding = encoding)"
   ]
  },
  {
   "cell_type": "markdown",
   "id": "aadb48d3",
   "metadata": {},
   "source": [
    "# Data: Colors"
   ]
  },
  {
   "cell_type": "code",
   "execution_count": 6,
   "id": "5c5556cc",
   "metadata": {},
   "outputs": [],
   "source": [
    "color_list = ['grey', 'dark grey', 'red', 'blue', 'green', 'black', 'brown', 'beige', 'white', 'yellow']\n",
    "\n",
    "# insert customer records\n",
    "\n",
    "for color in color_list:\n",
    "    db_conn.update(sql_queries.insert_color_table, [color])"
   ]
  },
  {
   "cell_type": "markdown",
   "id": "3f39463b",
   "metadata": {},
   "source": [
    "# Data: Descriptions"
   ]
  },
  {
   "cell_type": "code",
   "execution_count": 7,
   "id": "496abc9b",
   "metadata": {},
   "outputs": [],
   "source": [
    "description_list = ['sofa', 'love-seat', 'dinette set', 'mattress', 'bedframe', 'nightstand', 'chest', 'dresser', 'chair', 'desk', 'desk chair', 'bookcase', 'coffee table', 'end table'] \n",
    "\n",
    "# insert customer records\n",
    "\n",
    "for description in description_list:\n",
    "    db_conn.update(sql_queries.insert_description_table, [description])"
   ]
  },
  {
   "cell_type": "markdown",
   "id": "1414b21c",
   "metadata": {},
   "source": [
    "# Data: Materials"
   ]
  },
  {
   "cell_type": "code",
   "execution_count": 8,
   "id": "be78abab",
   "metadata": {},
   "outputs": [],
   "source": [
    "material_list = ['fabric', 'leather', 'wood', 'metal', 'plastic']\n",
    "\n",
    "# insert material records\n",
    "\n",
    "for material in material_list:\n",
    "    db_conn.update(sql_queries.insert_material_table, [material])"
   ]
  },
  {
   "cell_type": "markdown",
   "id": "96d0b464",
   "metadata": {},
   "source": [
    "# Data: Products"
   ]
  },
  {
   "cell_type": "code",
   "execution_count": 9,
   "id": "f0e0a0f0",
   "metadata": {},
   "outputs": [],
   "source": [
    "def get_ids(table_name):\n",
    "    \n",
    "    query = '''\n",
    "    select {}_id\n",
    "    from {}\n",
    "    '''\n",
    "    \n",
    "    results = db_conn.queryall(query.format(table_name[:-1], table_name))\n",
    "    \n",
    "    return results[results.columns[0]].values.tolist()"
   ]
  },
  {
   "cell_type": "code",
   "execution_count": 10,
   "id": "a600fdef",
   "metadata": {},
   "outputs": [],
   "source": [
    "material_ids = get_ids('materials')\n",
    "color_ids = get_ids('colors')\n",
    "description_ids = get_ids('descriptions')"
   ]
  },
  {
   "cell_type": "code",
   "execution_count": 11,
   "id": "7f97d041",
   "metadata": {},
   "outputs": [],
   "source": [
    "products = [\n",
    "    {\n",
    "     'material_id': np.random.choice(material_ids),\n",
    "     'color_id': np.random.choice(color_ids),\n",
    "     'description_id': np.random.choice(description_ids),\n",
    "     'pieces': np.random.randint(low = 1, high = 8, size = 1)[0],\n",
    "     'cost': np.round(np.random.lognormal(mean = np.log(100), sigma = 1, size = 1)[0],2) # make sure to give same cost to manufacturer \n",
    "    }\n",
    "    for x in range(200)\n",
    "]"
   ]
  },
  {
   "cell_type": "code",
   "execution_count": 12,
   "id": "9f941629",
   "metadata": {},
   "outputs": [],
   "source": [
    "df_products = pd.DataFrame(products)"
   ]
  },
  {
   "cell_type": "code",
   "execution_count": 13,
   "id": "317d69ea",
   "metadata": {},
   "outputs": [
    {
     "name": "stdout",
     "output_type": "stream",
     "text": [
      "0\n",
      "100\n"
     ]
    }
   ],
   "source": [
    "# insert product records\n",
    "\n",
    "for i, row in df_products.iterrows():\n",
    "    if i % 100 == 0:\n",
    "        print(i)\n",
    "    db_conn.update(sql_queries.insert_product_table, \n",
    "                        (row['material_id'],\n",
    "                        row['color_id'],\n",
    "                        row['description_id'],\n",
    "                        row['pieces'],\n",
    "                        row['cost']))"
   ]
  },
  {
   "cell_type": "markdown",
   "id": "71b5241f",
   "metadata": {},
   "source": [
    "# Data: Customers"
   ]
  },
  {
   "cell_type": "code",
   "execution_count": 19,
   "id": "0c7cabc3",
   "metadata": {},
   "outputs": [],
   "source": [
    "fake = Faker()"
   ]
  },
  {
   "cell_type": "code",
   "execution_count": null,
   "id": "14f6c508",
   "metadata": {},
   "outputs": [],
   "source": [
    "store_type = ['Store', 'Web']\n",
    "num_customers = 10000\n",
    "\n",
    "customers = [\n",
    "    {\n",
    "     'first_name': fake.first_name(),\n",
    "     'last_name': fake.last_name(),\n",
    "     'email_address': fake.email(),\n",
    "     'dob': fake.date_between(start_date ='-70y', end_date = '-18y'),\n",
    "     'gender': fake.profile()['sex'],\n",
    "     'street_address': fake.street_address(),\n",
    "     'state': fake.random_element(elements = ('NC', 'SC', 'TN', 'FL', 'GA', 'MS', 'AL')),\n",
    "     'date_created': fake.date_between(start_date ='-12y'),\n",
    "     'create_source': np.random.choice(store_type, p = [.8, .2]) # can give probability of selection to Store Type\n",
    "    }\n",
    "    for x in range(1, num_customers+1)\n",
    "]"
   ]
  },
  {
   "cell_type": "code",
   "execution_count": null,
   "id": "ad7f6d47",
   "metadata": {},
   "outputs": [],
   "source": [
    "df_customers = pd.DataFrame(customers)"
   ]
  },
  {
   "cell_type": "code",
   "execution_count": null,
   "id": "9007ee9a",
   "metadata": {},
   "outputs": [],
   "source": [
    "# insert customer records\n",
    "\n",
    "for i, row in df_customers.iterrows():\n",
    "    if i % num_customers*.25 == 0:\n",
    "        print(i)\n",
    "    db_conn.update(sql_queries.insert_customer_table, \n",
    "                        (row['first_name'],\n",
    "                        row['last_name'],\n",
    "                        row['email_address'],\n",
    "                        row['dob'],\n",
    "                        row['gender'],\n",
    "                        row['street_address'],\n",
    "                        row['state'],\n",
    "                        row['date_created'],\n",
    "                        row['create_source']))"
   ]
  },
  {
   "cell_type": "markdown",
   "id": "d596b074",
   "metadata": {},
   "source": [
    "# Data: Transactions"
   ]
  },
  {
   "cell_type": "code",
   "execution_count": 14,
   "id": "01ae5fc6",
   "metadata": {},
   "outputs": [],
   "source": [
    "def get_cost(product):\n",
    "    \n",
    "    query = '''\n",
    "    select cost\n",
    "    from products\n",
    "    where product_id = {}\n",
    "    '''\n",
    "    \n",
    "    return float(db_conn.queryall(query.format(product))['cost'][0])"
   ]
  },
  {
   "cell_type": "code",
   "execution_count": 15,
   "id": "820c8a62",
   "metadata": {},
   "outputs": [],
   "source": [
    "customer_id_list = get_ids('customers')\n",
    "product_id_list = get_ids('products')"
   ]
  },
  {
   "cell_type": "code",
   "execution_count": null,
   "id": "327aff59",
   "metadata": {},
   "outputs": [],
   "source": [
    "num_trans = 25000\n",
    "transaction_id = 1\n",
    "years = list(range(2010, 2023))\n",
    "weights = list(range(1, len(years) + 1))\n",
    "weights = [x/sum(weights) for x in weights]\n",
    "\n",
    "for trans in range(num_trans):\n",
    "    \n",
    "    if transaction_id % num_trans*.25 == 0:\n",
    "        print(i)\n",
    "    \n",
    "    num_items = np.random.randint(low = 1, high = 5)\n",
    "    year = np.random.choice(years, size = None, p = weights)\n",
    "    transaction_date = fake.date_between_dates(date_start = dt.datetime.strptime(str(year) + '-01-01', '%Y-%m-%d'), date_end = dt.datetime.strptime(str(year) + '-12-31', '%Y-%m-%d'))\n",
    "    customer_id = np.random.choice(customer_id_list).item()\n",
    "    \n",
    "    for item in range(num_items): \n",
    "        \n",
    "        \n",
    "        product_id = np.random.choice(product_id_list).item()\n",
    "        line_item_number = item + 1\n",
    "        sale_or_return = 0\n",
    "        \n",
    "        sale_amount = round(get_cost(product_id) * np.random.uniform(low = 1.43, high = 4), 2)\n",
    "        quantity = np.random.choice([1,2,3], p = [.8, .15, .05]).item()\n",
    "        \n",
    "        db_conn.update(sql_queries.insert_transactions_table,\n",
    "                          (transaction_id,\n",
    "                          transaction_date,\n",
    "                          customer_id,\n",
    "                          product_id,\n",
    "                          line_item_number,\n",
    "                          sale_amount,\n",
    "                          quantity,\n",
    "                          sale_or_return))\n",
    "                          \n",
    "    transaction_id += 1                         "
   ]
  },
  {
   "cell_type": "code",
   "execution_count": null,
   "id": "35259f31",
   "metadata": {},
   "outputs": [],
   "source": []
  }
 ],
 "metadata": {
  "kernelspec": {
   "display_name": "Python 3 (ipykernel)",
   "language": "python",
   "name": "python3"
  },
  "language_info": {
   "codemirror_mode": {
    "name": "ipython",
    "version": 3
   },
   "file_extension": ".py",
   "mimetype": "text/x-python",
   "name": "python",
   "nbconvert_exporter": "python",
   "pygments_lexer": "ipython3",
   "version": "3.11.4"
  }
 },
 "nbformat": 4,
 "nbformat_minor": 5
}
