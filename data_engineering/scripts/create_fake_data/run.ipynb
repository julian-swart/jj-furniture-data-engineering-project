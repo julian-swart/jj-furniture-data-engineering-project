{
 "cells": [
  {
   "cell_type": "markdown",
   "id": "e3b18137",
   "metadata": {},
   "source": [
    "# Import"
   ]
  },
  {
   "cell_type": "code",
   "execution_count": 23,
   "id": "216d1f83",
   "metadata": {},
   "outputs": [],
   "source": [
    "import sys \n",
    "import os\n",
    "import configparser\n",
    "import pandas as pd\n",
    "import numpy as np\n",
    "import datetime as dt\n",
    "from faker import Faker\n",
    "from sqlalchemy import create_engine"
   ]
  },
  {
   "cell_type": "code",
   "execution_count": 3,
   "id": "92936727",
   "metadata": {},
   "outputs": [],
   "source": [
    "script_dir = os.path.abspath('')\n",
    "mymodule_dir = os.path.join( script_dir, '..', '..', 'database', 'table_setup' )\n",
    "sys.path.append( mymodule_dir )\n",
    "\n",
    "import sql_queries"
   ]
  },
  {
   "cell_type": "code",
   "execution_count": 4,
   "id": "ca72d04b",
   "metadata": {},
   "outputs": [],
   "source": [
    "mymodule_dir = os.path.join( script_dir, '..', '..', 'database', 'connection' )\n",
    "sys.path.append( mymodule_dir )\n",
    "\n",
    "import postgres_db"
   ]
  },
  {
   "cell_type": "markdown",
   "id": "b4cceb24",
   "metadata": {},
   "source": [
    "# Connect"
   ]
  },
  {
   "cell_type": "code",
   "execution_count": 5,
   "id": "b23cd325",
   "metadata": {},
   "outputs": [],
   "source": [
    "encoding = 'utf-16'\n",
    "\n",
    "config_file_path = os.path.join( script_dir, '..', '..', 'database', 'connection' )\n",
    "config_file_path += '/config.ini'\n",
    "\n",
    "db_conn = postgres_db.PostgresConnector(config_file_path = config_file_path,\n",
    "                                       section = 'jj-furniture',\n",
    "                                       encoding = encoding)"
   ]
  },
  {
   "cell_type": "markdown",
   "id": "47ff7750",
   "metadata": {},
   "source": [
    "# Data: Colors"
   ]
  },
  {
   "cell_type": "code",
   "execution_count": 6,
   "id": "2f8580a1",
   "metadata": {},
   "outputs": [],
   "source": [
    "color_list = ['grey', 'dark grey', 'red', 'blue', 'green', 'black', 'brown', 'beige', 'white', 'yellow']\n",
    "\n",
    "# insert customer records\n",
    "\n",
    "for color in color_list:\n",
    "    db_conn.update(sql_queries.insert_color_table, [color])"
   ]
  },
  {
   "cell_type": "markdown",
   "id": "a4459869",
   "metadata": {},
   "source": [
    "# Data: Descriptions"
   ]
  },
  {
   "cell_type": "code",
   "execution_count": 7,
   "id": "b177d4ef",
   "metadata": {},
   "outputs": [],
   "source": [
    "description_list = ['sofa', 'love-seat', 'dinette set', 'mattress', 'bedframe', 'nightstand', 'chest', 'dresser', 'chair', 'desk', 'desk chair', 'bookcase', 'coffee table', 'end table'] \n",
    "\n",
    "# insert customer records\n",
    "\n",
    "for description in description_list:\n",
    "    db_conn.update(sql_queries.insert_description_table, [description])"
   ]
  },
  {
   "cell_type": "markdown",
   "id": "8f935be1",
   "metadata": {},
   "source": [
    "# Data: Materials"
   ]
  },
  {
   "cell_type": "code",
   "execution_count": 8,
   "id": "0b7dbe8f",
   "metadata": {},
   "outputs": [],
   "source": [
    "material_list = ['fabric', 'leather', 'wood', 'metal', 'plastic']\n",
    "\n",
    "# insert material records\n",
    "\n",
    "for material in material_list:\n",
    "    db_conn.update(sql_queries.insert_material_table, [material])"
   ]
  },
  {
   "cell_type": "markdown",
   "id": "41c90cd2",
   "metadata": {},
   "source": [
    "# Data: Products"
   ]
  },
  {
   "cell_type": "code",
   "execution_count": 9,
   "id": "e1f8dec1",
   "metadata": {},
   "outputs": [],
   "source": [
    "def get_ids(table_name):\n",
    "    \n",
    "    query = '''\n",
    "    select {}_id\n",
    "    from {}\n",
    "    '''\n",
    "    \n",
    "    results = db_conn.queryall(query.format(table_name[:-1], table_name))\n",
    "    \n",
    "    return results[results.columns[0]].values.tolist()"
   ]
  },
  {
   "cell_type": "code",
   "execution_count": 10,
   "id": "c9614704",
   "metadata": {},
   "outputs": [],
   "source": [
    "material_ids = get_ids('materials')\n",
    "color_ids = get_ids('colors')\n",
    "description_ids = get_ids('descriptions')"
   ]
  },
  {
   "cell_type": "code",
   "execution_count": 11,
   "id": "3e76479d",
   "metadata": {},
   "outputs": [],
   "source": [
    "products = [\n",
    "    {\n",
    "     'material_id': np.random.choice(material_ids),\n",
    "     'color_id': np.random.choice(color_ids),\n",
    "     'description_id': np.random.choice(description_ids),\n",
    "     'pieces': np.random.randint(low = 1, high = 8, size = 1)[0],\n",
    "     'cost': np.round(np.random.lognormal(mean = np.log(100), sigma = 1, size = 1)[0],2) # make sure to give same cost to manufacturer \n",
    "    }\n",
    "    for x in range(200)\n",
    "]"
   ]
  },
  {
   "cell_type": "code",
   "execution_count": 12,
   "id": "3bf4f1e1",
   "metadata": {},
   "outputs": [],
   "source": [
    "df_products = pd.DataFrame(products)"
   ]
  },
  {
   "cell_type": "code",
   "execution_count": 13,
   "id": "d61c1eab",
   "metadata": {},
   "outputs": [
    {
     "name": "stdout",
     "output_type": "stream",
     "text": [
      "0\n",
      "100\n"
     ]
    }
   ],
   "source": [
    "# insert product records\n",
    "\n",
    "for i, row in df_products.iterrows():\n",
    "    if i % 100 == 0:\n",
    "        print(i)\n",
    "    db_conn.update(sql_queries.insert_product_table, \n",
    "                        (row['material_id'],\n",
    "                        row['color_id'],\n",
    "                        row['description_id'],\n",
    "                        row['pieces'],\n",
    "                        row['cost']))"
   ]
  },
  {
   "cell_type": "markdown",
   "id": "aa53f018",
   "metadata": {},
   "source": [
    "# Data: Customers"
   ]
  },
  {
   "cell_type": "code",
   "execution_count": 19,
   "id": "3bdb82cd",
   "metadata": {},
   "outputs": [],
   "source": [
    "fake = Faker()"
   ]
  },
  {
   "cell_type": "code",
   "execution_count": null,
   "id": "a714cb60",
   "metadata": {},
   "outputs": [],
   "source": [
    "store_type = ['Store', 'Web']\n",
    "num_customers = 10000\n",
    "\n",
    "customers = [\n",
    "    {\n",
    "     'first_name': fake.first_name(),\n",
    "     'last_name': fake.last_name(),\n",
    "     'email_address': fake.email(),\n",
    "     'dob': fake.date_between(start_date ='-70y', end_date = '-18y'),\n",
    "     'gender': fake.profile()['sex'],\n",
    "     'street_address': fake.street_address(),\n",
    "     'state': fake.random_element(elements = ('NC', 'SC', 'TN', 'FL', 'GA', 'MS', 'AL')),\n",
    "     'date_created': fake.date_between(start_date ='-12y'),\n",
    "     'create_source': np.random.choice(store_type, p = [.8, .2]) # can give probability of selection to Store Type\n",
    "    }\n",
    "    for x in range(1, num_customers+1)\n",
    "]"
   ]
  },
  {
   "cell_type": "code",
   "execution_count": null,
   "id": "bf31ec87",
   "metadata": {},
   "outputs": [],
   "source": [
    "df_customers = pd.DataFrame(customers)"
   ]
  },
  {
   "cell_type": "code",
   "execution_count": null,
   "id": "2a1917e2",
   "metadata": {},
   "outputs": [],
   "source": [
    "# insert customer records\n",
    "\n",
    "for i, row in df_customers.iterrows():\n",
    "    if i % num_customers*.25 == 0:\n",
    "        print(i)\n",
    "    db_conn.update(sql_queries.insert_customer_table, \n",
    "                        (row['first_name'],\n",
    "                        row['last_name'],\n",
    "                        row['email_address'],\n",
    "                        row['dob'],\n",
    "                        row['gender'],\n",
    "                        row['street_address'],\n",
    "                        row['state'],\n",
    "                        row['date_created'],\n",
    "                        row['create_source']))"
   ]
  },
  {
   "cell_type": "markdown",
   "id": "c7fc8f09",
   "metadata": {},
   "source": [
    "# Data: Transactions"
   ]
  },
  {
   "cell_type": "code",
   "execution_count": 14,
   "id": "414e3919",
   "metadata": {},
   "outputs": [],
   "source": [
    "def get_cost(product):\n",
    "    \n",
    "    query = '''\n",
    "    select cost\n",
    "    from products\n",
    "    where product_id = {}\n",
    "    '''\n",
    "    \n",
    "    return float(db_conn.queryall(query.format(product))['cost'][0])"
   ]
  },
  {
   "cell_type": "code",
   "execution_count": 15,
   "id": "7d803079",
   "metadata": {},
   "outputs": [],
   "source": [
    "customer_id_list = get_ids('customers')\n",
    "product_id_list = get_ids('products')"
   ]
  },
  {
   "cell_type": "code",
   "execution_count": null,
   "id": "47a1f2ee",
   "metadata": {},
   "outputs": [],
   "source": [
    "num_trans = 25000\n",
    "transaction_id = 1\n",
    "years = list(range(2010, 2023))\n",
    "weights = list(range(1, len(years) + 1))\n",
    "weights = [x/sum(weights) for x in weights]\n",
    "\n",
    "for trans in range(num_trans):\n",
    "    \n",
    "    if transaction_id % num_trans*.25 == 0:\n",
    "        print(i)\n",
    "    \n",
    "    num_items = np.random.randint(low = 1, high = 5)\n",
    "    year = np.random.choice(years, size = None, p = weights)\n",
    "    transaction_date = fake.date_between_dates(date_start = dt.datetime.strptime(str(year) + '-01-01', '%Y-%m-%d'), date_end = dt.datetime.strptime(str(year) + '-12-31', '%Y-%m-%d'))\n",
    "    customer_id = np.random.choice(customer_id_list).item()\n",
    "    \n",
    "    for item in range(num_items): \n",
    "        \n",
    "        \n",
    "        product_id = np.random.choice(product_id_list).item()\n",
    "        line_item_number = item + 1\n",
    "        sale_or_return = 0\n",
    "        \n",
    "        sale_amount = round(get_cost(product_id) * np.random.uniform(low = 1.43, high = 4), 2)\n",
    "        quantity = np.random.choice([1,2,3], p = [.8, .15, .05]).item()\n",
    "        \n",
    "        db_conn.update(sql_queries.insert_transactions_table,\n",
    "                          (transaction_id,\n",
    "                          transaction_date,\n",
    "                          customer_id,\n",
    "                          product_id,\n",
    "                          line_item_number,\n",
    "                          sale_amount,\n",
    "                          quantity,\n",
    "                          sale_or_return))\n",
    "                          \n",
    "    transaction_id += 1                         "
   ]
  },
  {
   "cell_type": "code",
   "execution_count": 27,
   "id": "d7abb67d",
   "metadata": {},
   "outputs": [
    {
     "name": "stdout",
     "output_type": "stream",
     "text": [
      "Traceback (most recent call last):\r\n",
      "  File \"/opt/homebrew/lib/python3.11/site-packages/traitlets/traitlets.py\", line 656, in get\r\n",
      "    value = obj._trait_values[self.name]\r\n",
      "            ~~~~~~~~~~~~~~~~~^^^^^^^^^^^\r\n",
      "KeyError: 'template_paths'\r\n",
      "\r\n",
      "During handling of the above exception, another exception occurred:\r\n",
      "\r\n",
      "Traceback (most recent call last):\r\n",
      "  File \"/opt/homebrew/bin/jupyter-nbconvert\", line 8, in <module>\r\n",
      "    sys.exit(main())\r\n",
      "             ^^^^^^\r\n",
      "  File \"/opt/homebrew/lib/python3.11/site-packages/jupyter_core/application.py\", line 285, in launch_instance\r\n",
      "    return super().launch_instance(argv=argv, **kwargs)\r\n",
      "           ^^^^^^^^^^^^^^^^^^^^^^^^^^^^^^^^^^^^^^^^^^^^\r\n",
      "  File \"/opt/homebrew/lib/python3.11/site-packages/traitlets/config/application.py\", line 1043, in launch_instance\r\n",
      "    app.start()\r\n",
      "  File \"/opt/homebrew/lib/python3.11/site-packages/nbconvert/nbconvertapp.py\", line 414, in start\r\n",
      "    self.convert_notebooks()\r\n",
      "  File \"/opt/homebrew/lib/python3.11/site-packages/nbconvert/nbconvertapp.py\", line 577, in convert_notebooks\r\n",
      "    cls = get_exporter(self.export_format)\r\n",
      "          ^^^^^^^^^^^^^^^^^^^^^^^^^^^^^^^^\r\n",
      "  File \"/opt/homebrew/lib/python3.11/site-packages/nbconvert/exporters/base.py\", line 110, in get_exporter\r\n",
      "    if getattr(exporter(config=config), \"enabled\", True):\r\n",
      "               ^^^^^^^^^^^^^^^^^^^^^^^\r\n",
      "  File \"/opt/homebrew/lib/python3.11/site-packages/nbconvert/exporters/templateexporter.py\", line 352, in __init__\r\n",
      "    super().__init__(config=config, **kw)\r\n",
      "  File \"/opt/homebrew/lib/python3.11/site-packages/nbconvert/exporters/exporter.py\", line 123, in __init__\r\n",
      "    self._init_preprocessors()\r\n",
      "  File \"/opt/homebrew/lib/python3.11/site-packages/nbconvert/exporters/templateexporter.py\", line 536, in _init_preprocessors\r\n",
      "    conf = self._get_conf()\r\n",
      "           ^^^^^^^^^^^^^^^^\r\n",
      "  File \"/opt/homebrew/lib/python3.11/site-packages/nbconvert/exporters/templateexporter.py\", line 554, in _get_conf\r\n",
      "    for path in map(Path, self.template_paths):\r\n",
      "                          ^^^^^^^^^^^^^^^^^^^\r\n",
      "  File \"/opt/homebrew/lib/python3.11/site-packages/traitlets/traitlets.py\", line 703, in __get__\r\n",
      "    return self.get(obj, cls)\r\n",
      "           ^^^^^^^^^^^^^^^^^^\r\n",
      "  File \"/opt/homebrew/lib/python3.11/site-packages/traitlets/traitlets.py\", line 659, in get\r\n",
      "    default = obj.trait_defaults(self.name)\r\n",
      "              ^^^^^^^^^^^^^^^^^^^^^^^^^^^^^\r\n",
      "  File \"/opt/homebrew/lib/python3.11/site-packages/traitlets/traitlets.py\", line 1872, in trait_defaults\r\n",
      "    return self._get_trait_default_generator(names[0])(self)\r\n",
      "           ^^^^^^^^^^^^^^^^^^^^^^^^^^^^^^^^^^^^^^^^^^^^^^^^^\r\n",
      "  File \"/opt/homebrew/lib/python3.11/site-packages/traitlets/traitlets.py\", line 1233, in __call__\r\n",
      "    return self.func(*args, **kwargs)\r\n",
      "           ^^^^^^^^^^^^^^^^^^^^^^^^^^\r\n",
      "  File \"/opt/homebrew/lib/python3.11/site-packages/nbconvert/exporters/templateexporter.py\", line 565, in _template_paths\r\n",
      "    template_names = self.get_template_names()\r\n",
      "                     ^^^^^^^^^^^^^^^^^^^^^^^^^\r\n",
      "  File \"/opt/homebrew/lib/python3.11/site-packages/nbconvert/exporters/templateexporter.py\", line 652, in get_template_names\r\n",
      "    raise ValueError(msg)\r\n",
      "ValueError: No template sub-directory with name 'script' found in the following paths:\r\n",
      "\t/Users/julian/Library/Jupyter\r\n",
      "\t/Users/julian/Library/Python/3.11/share/jupyter\r\n",
      "\t/opt/homebrew/opt/python@3.11/Frameworks/Python.framework/Versions/3.11/share/jupyter\r\n",
      "\t/usr/local/share/jupyter\r\n",
      "\t/usr/share/jupyter\r\n"
     ]
    }
   ],
   "source": [
    "!jupyter nbconvert --to script *.ipynb"
   ]
  },
  {
   "cell_type": "code",
   "execution_count": null,
   "id": "7c6409f4",
   "metadata": {},
   "outputs": [],
   "source": []
  }
 ],
 "metadata": {
  "kernelspec": {
   "display_name": "Python 3 (ipykernel)",
   "language": "python",
   "name": "python3"
  },
  "language_info": {
   "codemirror_mode": {
    "name": "ipython",
    "version": 3
   },
   "file_extension": ".py",
   "mimetype": "text/x-python",
   "name": "python",
   "nbconvert_exporter": "python",
   "pygments_lexer": "ipython3",
   "version": "3.11.4"
  }
 },
 "nbformat": 4,
 "nbformat_minor": 5
}
